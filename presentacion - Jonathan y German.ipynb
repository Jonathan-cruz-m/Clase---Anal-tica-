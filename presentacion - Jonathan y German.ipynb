{
 "cells": [
  {
   "cell_type": "markdown",
   "metadata": {
    "slideshow": {
     "slide_type": "slide"
    }
   },
   "source": [
    "# Analítica y Ciencia de Datos\n",
    "\n",
    "## Jonnathan Cruz y Germán Villar"
   ]
  },
  {
   "cell_type": "markdown",
   "metadata": {
    "slideshow": {
     "slide_type": "slide"
    }
   },
   "source": [
    "# Referencias:\n",
    "\n",
    "Las propiedades y supuestos detrás del Modelo Lineal de Regresión, la pueden encontrar en [Greene, \"Econometric Analysis\"](http://pages.stern.nyu.edu/~wgreene/Text/econometricanalysis.htm).\n",
    "\n",
    "También véanse los capítulos 3 y 6 de [ISL](http://www-bcf.usc.edu/~gareth/ISL/getbook.html).\n",
    "\n",
    "O el capítulo 3 de [ESL](http://statweb.stanford.edu/~tibs/ElemStatLearn/)"
   ]
  },
  {
   "cell_type": "markdown",
   "metadata": {
    "slideshow": {
     "slide_type": "slide"
    }
   },
   "source": [
    "# Más regularización: Lasso\n",
    "\n",
    "\n",
    "* Lasso es otro método de regularización de los coeficientes, que utiliza una métrica distinta para penalizar coeficientes grandes.\n",
    "\n",
    "$$\n",
    "\\beta_{lasso} = argmin_{\\beta} (y - X\\beta)'(y - X\\beta) + \\lambda \\sum_j \\left \\vert \\beta_j \\right \\vert\n",
    "$$\n",
    "\n",
    "* Desde un punto de vista de optimización, este es un problema de [programación cuadrática](https://en.wikipedia.org/wiki/Quadratic_programming), i.e. uno donde la función objetivo es cuadrática y está sujeto a restricciones lineales.\n",
    "\n",
    "    * Una alternativa es utilizar una librería de optimización cuadrática como [`cvxopt`](http://cvxopt.org/).\n",
    "    * Vamos a ver otros métodos para resolver el problema de optimización que son computacionalmente eficientes.\n",
    "\n",
    "\n",
    "* Así que la mala noticia es que no hay una solución analítica, como si lo había en el caso del Ridge.\n",
    "\n",
    "\n",
    "* La principal diferencia entre el Lasso y el Ridge es que el segundo reduce los coeficientes, y en el límite, cuando $\\lambda \\rightarrow \\infty$, los coeficientes son cero.\n",
    "\n",
    "\n",
    "* En Lasso, parte de la solución son algunos coeficientes exactamente iguales a cero, *para cualquier valor de $\\lambda$*, así que es un método que permite hacer selección de variables.\n"
   ]
  },
  {
   "cell_type": "markdown",
   "metadata": {},
   "source": [
    "## Teorema 2: Elastic Net es una versión estable del Lasso:\n",
    "\n",
    "\n",
    "$$\\hat{\\beta_{EN}} = argmin_{\\beta}\\Bigg\\{\\beta'\\Bigg(\\frac{X'X+\\lambda_2 I}{1+\\lambda_2}\\Bigg)\\beta + 2Y'X\\beta + \\lambda |\\beta_1|\\Bigg\\}$$"
   ]
  },
  {
   "cell_type": "markdown",
   "metadata": {
    "slideshow": {
     "slide_type": "subslide"
    }
   },
   "source": [
    "# Comparación entre Lasso y Ridge\n",
    "\n",
    "![caption](figures/lasso_ridge.png)\n",
    "\n",
    "Figura 6.7 de [ISLR](http://www-bcf.usc.edu/~gareth/ISL/)"
   ]
  },
  {
   "cell_type": "markdown",
   "metadata": {
    "collapsed": true,
    "slideshow": {
     "slide_type": "subslide"
    }
   },
   "source": [
    "# ¿Cómo se encuentra la solución de Lasso?\n",
    "\n",
    "\n",
    "* Vamos a utilizar un método de optimización que se llama [coordinate descent](https://www.cs.cmu.edu/~ggordon/10725-F12/slides/25-coord-desc.pdf).\n",
    "\n",
    "\n",
    "* La idea es simple: queremos minimizar \n",
    "$$\n",
    "f(\\beta) = g(\\beta) + \\sum_i h_i(\\beta_i)\n",
    "$$\n",
    "\n",
    "\n",
    "donde $g$ es una función convexa y diferenciable, y cada una de las $h_i$ es una función convexa, no necesariamente diferenciable.\n",
    "\n",
    "\n",
    "* Para encontrar el mínimo podemos hacerlo *coordenada por coordenada*.\n",
    "\n",
    "\n",
    "* En el caso de Lasso, el siguiente algoritmo funciona perfectamente (ver [acá, por ejemplo](http://web.stanford.edu/~hastie/TALKS/glmnet.pdf))."
   ]
  },
  {
   "cell_type": "markdown",
   "metadata": {
    "slideshow": {
     "slide_type": "subslide"
    }
   },
   "source": [
    "# Pseudocódigo de Lasso vía Coordinate Descent\n",
    "\n",
    "\n",
    "* Estandaricemos la matriz $X$ y $y$.\n",
    "\n",
    "\n",
    "* Repita lo siguiente hasta que haya convergencia, para todo $k = 1, 2, \\cdots, p, 1, 2, \\cdots$:\n",
    "\n",
    "> **Paso 1**: Obtenga los residuos excluyendo el regresor $k$: \n",
    "$$    \n",
    "    r_{-k} = y - x_{-k}\\beta_{-k}\n",
    "$$\n",
    ">     donde $x_{-k}$ excluye al regresor $k$, y $\\beta_{-k}$ es la versión actual de los coeficientes excluyendo al $k-$ésimo.\n",
    "\n",
    "\n",
    "> **Paso 2**: Obtenga el estimador de OLS simple para el regresor $k$:\n",
    "    \n",
    "$$    \n",
    "    \\beta^*_{k} = \\frac{1}{N} r_{-k}'x_k = \\frac{1}{N} \\sum_j r_{-k,j}x_{jk}\n",
    "$$\n",
    "\n",
    "\n",
    "> **Paso 3**: Actualice $\\beta_k$ por medio de *soft-thresholding*\n",
    "\n",
    "$$\n",
    "\\begin{eqnarray*}\n",
    "\\beta_k &=& signo(\\beta^*_{k})(\\left \\vert \\beta^*_{k} \\right \\vert -\\lambda)_{+} \\\\\n",
    "\\end{eqnarray*}\n",
    "$$\n",
    "\n",
    ">  donde $(x)_{+} = max(0,x)$ denota la [parte positiva](http://mathworld.wolfram.com/PositivePart.html)"
   ]
  },
  {
   "cell_type": "markdown",
   "metadata": {
    "slideshow": {
     "slide_type": "subslide"
    }
   },
   "source": [
    "# Veamos cómo se hace en Python"
   ]
  },
  {
   "cell_type": "code",
   "execution_count": 9,
   "metadata": {
    "collapsed": true,
    "slideshow": {
     "slide_type": "skip"
    }
   },
   "outputs": [],
   "source": [
    "import pandas as pd\n",
    "import numpy as np\n",
    "import matplotlib.pyplot as plt\n",
    "%matplotlib inline \n",
    "\n",
    "data_cr = pd.read_csv(u'D:\\Míos\\Clase CIDE\\Datasets\\Credit.csv')\n",
    "nobs    = data_cr.shape[0]\n",
    "saldo    = np.asarray(data_cr.Balance).reshape((nobs,1))\n",
    "male     = np.asarray(data_cr.Gender==' Male').reshape((nobs,1))\n",
    "student  = np.asarray(data_cr.Student=='Yes').reshape((nobs,1))\n",
    "married  = np.asarray(data_cr.Married=='Yes').reshape((nobs,1))\n",
    "eth_dum  = np.asarray(pd.get_dummies(data_cr.Ethnicity))[:,:-1]\n",
    "oth_xmat = data_cr[[u'Income', u'Limit', u'Rating', u'Cards', u'Age', u'Education']]\n",
    "\n",
    "labs_x = np.array([u'Income', u'Limit', u'Rating', u'Cards', u'Age', u'Education',\n",
    "              'Hombre','Estudiante','Casado','Caucasian','Asian'])\n",
    "\n",
    "prexmat  = np.concatenate((oth_xmat, male, student, married, eth_dum),axis=1)\n",
    "#print prexmat.shape\n",
    "nvar = prexmat.shape[1]\n",
    "# I will start by standardizing/normalizing the matrix\n",
    "prexmat_std = prexmat.copy()\n",
    "ind_dum = np.array([pd.Series(prexmat[:,k]).unique().shape[0] for k in range(nvar)])\n",
    "prexmat_std[:,ind_dum>2] -= prexmat_std[:,ind_dum>2].mean(axis=0).reshape((1,6))\n",
    "# get the norms\n",
    "norm_pxmat = np.array([np.linalg.norm(prexmat_std[:,ind_dum>2][:,k]) for k in range(np.sum(ind_dum>2))])\n",
    "# ready to normalize\n",
    "prexmat_std[:,ind_dum>2] /= prexmat_std[:,ind_dum>2].std(axis=0).reshape((1,6))\n",
    "\n",
    "# also standardize y\n",
    "yy_std = saldo.copy()\n",
    "yy_std -= yy_std.mean()\n",
    "yy_std /= yy_std.std()"
   ]
  },
  {
   "cell_type": "code",
   "execution_count": 17,
   "metadata": {
    "collapsed": false,
    "slideshow": {
     "slide_type": "subslide"
    }
   },
   "outputs": [
    {
     "name": "stdout",
     "output_type": "stream",
     "text": [
      "total iteraciones:  201\n"
     ]
    },
    {
     "data": {
      "text/html": [
       "<div style=\"max-height:1000px;max-width:1500px;overflow:auto;\">\n",
       "<table border=\"1\" class=\"dataframe\">\n",
       "  <thead>\n",
       "    <tr style=\"text-align: right;\">\n",
       "      <th></th>\n",
       "      <th>Nuestro</th>\n",
       "    </tr>\n",
       "  </thead>\n",
       "  <tbody>\n",
       "    <tr>\n",
       "      <th>Income</th>\n",
       "      <td>-0.000000</td>\n",
       "    </tr>\n",
       "    <tr>\n",
       "      <th>Limit</th>\n",
       "      <td> 0.000000</td>\n",
       "    </tr>\n",
       "    <tr>\n",
       "      <th>Rating</th>\n",
       "      <td> 0.486001</td>\n",
       "    </tr>\n",
       "    <tr>\n",
       "      <th>Cards</th>\n",
       "      <td> 0.000000</td>\n",
       "    </tr>\n",
       "    <tr>\n",
       "      <th>Age</th>\n",
       "      <td>-0.000000</td>\n",
       "    </tr>\n",
       "    <tr>\n",
       "      <th>Education</th>\n",
       "      <td>-0.000000</td>\n",
       "    </tr>\n",
       "    <tr>\n",
       "      <th>Hombre</th>\n",
       "      <td>-0.000000</td>\n",
       "    </tr>\n",
       "    <tr>\n",
       "      <th>Estudiante</th>\n",
       "      <td> 0.000000</td>\n",
       "    </tr>\n",
       "    <tr>\n",
       "      <th>Casado</th>\n",
       "      <td>-0.000000</td>\n",
       "    </tr>\n",
       "    <tr>\n",
       "      <th>Caucasian</th>\n",
       "      <td>-0.000000</td>\n",
       "    </tr>\n",
       "    <tr>\n",
       "      <th>Asian</th>\n",
       "      <td>-0.000000</td>\n",
       "    </tr>\n",
       "  </tbody>\n",
       "</table>\n",
       "</div>"
      ],
      "text/plain": [
       "             Nuestro\n",
       "Income     -0.000000\n",
       "Limit       0.000000\n",
       "Rating      0.486001\n",
       "Cards       0.000000\n",
       "Age        -0.000000\n",
       "Education  -0.000000\n",
       "Hombre     -0.000000\n",
       "Estudiante  0.000000\n",
       "Casado     -0.000000\n",
       "Caucasian  -0.000000\n",
       "Asian      -0.000000"
      ]
     },
     "execution_count": 17,
     "metadata": {},
     "output_type": "execute_result"
    }
   ],
   "source": [
    "# Fijemos un lambda:\n",
    "lambda_vec = 0.1\n",
    "# Inicialicemos el vector:\n",
    "beta_actual = np.zeros((1,11))\n",
    "dist = 1\n",
    "counter = 0\n",
    "maxiter = 10000\n",
    "# loop externo: si no hay convergencia continúe\n",
    "while dist>0.001: \n",
    "    #or counter<maxiter:\n",
    "    # Loop interno: ciclo con los regresores\n",
    "    beta_old = beta_actual.copy()\n",
    "    for k in range(11):\n",
    "        # Residuos parciales excluyendo k\n",
    "        inc_k    = np.setdiff1d(np.arange(11),np.array([k]))\n",
    "        xmat_k   = prexmat_std[:,inc_k]\n",
    "        beta_k   = beta_actual[0,inc_k]\n",
    "        resids_k = yy_std - np.dot(xmat_k, beta_k.reshape((10,1)))\n",
    "        # OLS simple de k:\n",
    "        beta_star_k = np.dot(resids_k.T,prexmat_std[:,k].reshape((nobs,1)))/(1.0*nobs)\n",
    "        # Actualicemos beta_k\n",
    "        beta_actual[0,k] = np.sign(beta_star_k)*np.max([0,np.abs(beta_star_k)-lambda_vec])\n",
    "    # Actualicemos distancia:\n",
    "    dist = np.max(np.abs(beta_actual-beta_old))\n",
    "    counter +=1\n",
    "print \"total iteraciones: \", counter\n",
    "pd.DataFrame(beta_actual.T, index= labs_x.flatten(), columns = ['Nuestro'])"
   ]
  },
  {
   "cell_type": "markdown",
   "metadata": {
    "slideshow": {
     "slide_type": "subslide"
    }
   },
   "source": [
    "# Cómo se haría en Scikit-learn?"
   ]
  },
  {
   "cell_type": "code",
   "execution_count": 18,
   "metadata": {
    "collapsed": false
   },
   "outputs": [
    {
     "data": {
      "text/html": [
       "<div style=\"max-height:1000px;max-width:1500px;overflow:auto;\">\n",
       "<table border=\"1\" class=\"dataframe\">\n",
       "  <thead>\n",
       "    <tr style=\"text-align: right;\">\n",
       "      <th></th>\n",
       "      <th>Scikit-Learn</th>\n",
       "    </tr>\n",
       "  </thead>\n",
       "  <tbody>\n",
       "    <tr>\n",
       "      <th>Income</th>\n",
       "      <td>-0.000000</td>\n",
       "    </tr>\n",
       "    <tr>\n",
       "      <th>Limit</th>\n",
       "      <td> 0.000000</td>\n",
       "    </tr>\n",
       "    <tr>\n",
       "      <th>Rating</th>\n",
       "      <td> 0.486001</td>\n",
       "    </tr>\n",
       "    <tr>\n",
       "      <th>Cards</th>\n",
       "      <td> 0.000000</td>\n",
       "    </tr>\n",
       "    <tr>\n",
       "      <th>Age</th>\n",
       "      <td>-0.000000</td>\n",
       "    </tr>\n",
       "    <tr>\n",
       "      <th>Education</th>\n",
       "      <td>-0.000000</td>\n",
       "    </tr>\n",
       "    <tr>\n",
       "      <th>Hombre</th>\n",
       "      <td>-0.000000</td>\n",
       "    </tr>\n",
       "    <tr>\n",
       "      <th>Estudiante</th>\n",
       "      <td> 0.000000</td>\n",
       "    </tr>\n",
       "    <tr>\n",
       "      <th>Casado</th>\n",
       "      <td>-0.000000</td>\n",
       "    </tr>\n",
       "    <tr>\n",
       "      <th>Caucasian</th>\n",
       "      <td>-0.000000</td>\n",
       "    </tr>\n",
       "    <tr>\n",
       "      <th>Asian</th>\n",
       "      <td>-0.000000</td>\n",
       "    </tr>\n",
       "  </tbody>\n",
       "</table>\n",
       "</div>"
      ],
      "text/plain": [
       "            Scikit-Learn\n",
       "Income         -0.000000\n",
       "Limit           0.000000\n",
       "Rating          0.486001\n",
       "Cards           0.000000\n",
       "Age            -0.000000\n",
       "Education      -0.000000\n",
       "Hombre         -0.000000\n",
       "Estudiante      0.000000\n",
       "Casado         -0.000000\n",
       "Caucasian      -0.000000\n",
       "Asian          -0.000000"
      ]
     },
     "execution_count": 18,
     "metadata": {},
     "output_type": "execute_result"
    }
   ],
   "source": [
    "from sklearn import linear_model\n",
    "clf = linear_model.Lasso(alpha=0.1)\n",
    "clf.fit(prexmat_std,yy_std)\n",
    "pd.DataFrame(clf.coef_, index = labs_x, columns=['Scikit-Learn'])"
   ]
  },
  {
   "cell_type": "code",
   "execution_count": 52,
   "metadata": {
    "collapsed": true,
    "slideshow": {
     "slide_type": "subslide"
    }
   },
   "outputs": [],
   "source": [
    "# Miremos todo el path de lasso\n",
    "L = 100\n",
    "lambda_grid = np.linspace(0,0.6,L)\n",
    "BetaLasso  = np.zeros((L,11))\n",
    "for lamb in range(L):\n",
    "    lambda_vec = lambda_grid[lamb]\n",
    "    # Inicialicemos el vector:\n",
    "    beta_actual = np.zeros((1,11))\n",
    "    dist = 1\n",
    "    counter = 0\n",
    "    maxiter = 10000\n",
    "    # loop externo: si no hay convergencia continúe\n",
    "    while dist>0.001: \n",
    "        #or counter<maxiter:\n",
    "        # Loop interno: ciclo con los regresores\n",
    "        beta_old = beta_actual.copy()\n",
    "        for k in range(11):\n",
    "            # Residuos parciales excluyendo k\n",
    "            inc_k    = np.setdiff1d(np.arange(11),np.array([k]))\n",
    "            xmat_k   = prexmat_std[:,inc_k]\n",
    "            beta_k   = beta_actual[0,inc_k]\n",
    "            resids_k = yy_std - np.dot(xmat_k, beta_k.reshape((10,1)))\n",
    "            # OLS simple de k:\n",
    "            beta_star_k = np.dot(resids_k.T,prexmat_std[:,k].reshape((nobs,1)))/(1.0*nobs)\n",
    "            # Actualicemos beta_k\n",
    "            beta_actual[0,k] = np.sign(beta_star_k)*np.max([0,np.abs(beta_star_k)-lambda_vec])\n",
    "        # Actualicemos distancia:\n",
    "        dist = np.max(np.abs(beta_actual-beta_old))\n",
    "        counter +=1\n",
    "    # terminó, podemos actualizar\n",
    "    BetaLasso[lamb,:] = beta_actual.reshape((1,11))"
   ]
  },
  {
   "cell_type": "code",
   "execution_count": 54,
   "metadata": {
    "collapsed": false,
    "slideshow": {
     "slide_type": "subslide"
    }
   },
   "outputs": [
    {
     "data": {
      "text/plain": [
       "<matplotlib.text.Text at 0x2099bbe0>"
      ]
     },
     "execution_count": 54,
     "metadata": {},
     "output_type": "execute_result"
    },
    {
     "data": {
      "image/png": "[encoded data removed]",
      "text/plain": [
       "<matplotlib.figure.Figure at 0x2076fc50>"
      ]
     },
     "metadata": {},
     "output_type": "display_data"
    }
   ],
   "source": [
    "BetaLassoDF = pd.DataFrame(BetaLasso, columns= labs_x)\n",
    "BetaLassoDF['lambda_lasso'] = lambda_grid\n",
    "# Grafiquemos:\n",
    "plt.plot(BetaLassoDF.lambda_lasso, BetaLassoDF.Income, label='Income', color='r')\n",
    "plt.plot(BetaLassoDF.lambda_lasso, BetaLassoDF.Rating, label='Rating', color='b')\n",
    "plt.plot(BetaLassoDF.lambda_lasso, BetaLassoDF.Limit,  label='Limit', color='g')\n",
    "labs_exc = np.array([u'Cards', u'Age', u'Education',\n",
    "              'Hombre','Estudiante','Casado','Caucasian','Asian'])\n",
    "for k in range(8):\n",
    "    plt.plot(BetaLassoDF.lambda_lasso, BetaLassoDF[labs_exc[k]], color='k')\n",
    "plt.legend()\n",
    "plt.xlabel('$\\lambda$')\n",
    "plt.ylabel('Coeficientes Estandarizados')\n",
    "plt.title('Path Completo de Lasso')"
   ]
  }
 ],
 "metadata": {
  "kernelspec": {
   "display_name": "Python 3",
   "language": "python",
   "name": "python3"
  },
  "language_info": {
   "codemirror_mode": {
    "name": "ipython",
    "version": 3
   },
   "file_extension": ".py",
   "mimetype": "text/x-python",
   "name": "python",
   "nbconvert_exporter": "python",
   "pygments_lexer": "ipython3",
   "version": "3.5.0"
  }
 },
 "nbformat": 4,
 "nbformat_minor": 0
}
